{
 "metadata": {
  "name": ""
 },
 "nbformat": 3,
 "nbformat_minor": 0,
 "worksheets": [
  {
   "cells": [
    {
     "cell_type": "code",
     "collapsed": false,
     "input": [
      "# %matplotlib inline"
     ],
     "language": "python",
     "metadata": {},
     "outputs": [],
     "prompt_number": 2
    },
    {
     "cell_type": "code",
     "collapsed": false,
     "input": [
      "from __future__ import division\n",
      "import serial\n",
      "import numpy as np\n",
      "import matplotlib.pyplot as plt\n",
      "import matplotlib.animation as animation\n",
      "import pickle\n",
      "from os.path import join\n",
      "import csv\n",
      "import time\n",
      "from hercubit import settings\n",
      "from hercubit.device import sensor_stream"
     ],
     "language": "python",
     "metadata": {},
     "outputs": [
      {
       "output_type": "stream",
       "stream": "stdout",
       "text": [
        "Attempting to connect to /dev/tty.usbmodem1421...\n",
        "\n",
        "using serial port:  /dev/tty.usbmodem1421\n"
       ]
      }
     ],
     "prompt_number": 3
    },
    {
     "cell_type": "code",
     "collapsed": false,
     "input": [
      "samples=[]\n",
      "\n",
      "t0=time.time()\n",
      "    # else: yield data_gen()\n",
      "# data_gen.t = 0\n",
      "\n",
      "fig, ax = plt.subplots(3, sharex=True)\n",
      "fig.subplots_adjust(hspace=.10)\n",
      "plots={'accel':ax[0],'gyro':ax[1],'magnet':ax[2]}\n",
      "\n",
      "#Setup lines in graph\n",
      "sensors=('accel','gyro','magnet')\n",
      "axes=('x','y','z')\n",
      "colors=('-r','-g','-b')\n",
      "lines={}\n"
     ],
     "language": "python",
     "metadata": {},
     "outputs": [
      {
       "metadata": {},
       "output_type": "display_data",
       "png": "[encoded data removed]",
       "text": [
        "<matplotlib.figure.Figure at 0x107857cd0>"
       ]
      }
     ],
     "prompt_number": 4
    },
    {
     "cell_type": "code",
     "collapsed": false,
     "input": [
      "for sensor in sensors:\n",
      "    lines[sensor]={}\n",
      "    for axis in axes:\n",
      "        i=axes.index(axis)\n",
      "        # print sensor+\"(\"+axis+\") : \"+colors[i]\n",
      "        lines[sensor][axis]=ax[i].plot([], [],colors[i], lw=1)"
     ],
     "language": "python",
     "metadata": {},
     "outputs": [],
     "prompt_number": 5
    },
    {
     "cell_type": "code",
     "collapsed": false,
     "input": [
      "for i in range(len(axes)):\n",
      "    ax[i].grid()\n",
      "    ax[i].set_xlim(0, 20)"
     ],
     "language": "python",
     "metadata": {},
     "outputs": [],
     "prompt_number": 6
    },
    {
     "cell_type": "code",
     "collapsed": false,
     "input": [
      "ax[2].set_ylim(-2, 2)\n",
      "ax[1].set_ylim(-10000, 10000)\n",
      "ax[0].set_ylim(-1000, 1000)\n",
      "\n",
      "\n",
      "ax[2].set_ylabel('acceleration (g)')\n",
      "ax[1].set_ylabel('gyro (degrees/sec)')\n",
      "ax[0].set_ylabel('magnetometer')\n",
      "ax[2].set_xlabel('time (s)')"
     ],
     "language": "python",
     "metadata": {},
     "outputs": [
      {
       "metadata": {},
       "output_type": "pyout",
       "prompt_number": 7,
       "text": [
        "<matplotlib.text.Text at 0x1079a4f10>"
       ]
      }
     ],
     "prompt_number": 7
    },
    {
     "cell_type": "code",
     "collapsed": false,
     "input": [
      "tdata=[]\n",
      "all_data={}\n",
      "for sensor in sensors:\n",
      "    all_data[sensor]={'x':[],'y':[],'z':[]}\n",
      "\n",
      "# test=0\n",
      "def run(data):\n",
      "    global t0, lines, test\n",
      "#     print data\n",
      "    #override t to be count of seconds\n",
      "    t=time.time()-t0\n",
      "    tdata.append(t)\n",
      "\n",
      "    for sensor in all_data:\n",
      "        for axis in all_data[sensor]:\n",
      "            if axis==\"x\":i=0\n",
      "            if axis==\"y\":i=1\n",
      "            if axis==\"z\":i=2\n",
      "            # if test==0: print sensor+\" (\"+axis+\")\"\n",
      "            all_data[sensor][axis].append(data[sensor][i])\n",
      "            lines[sensor][axis][0].set_data(tdata, all_data[sensor][axis])\n",
      "    all_lines=[[axis for axis in sensor.values()] for sensor in lines.values()]\n",
      "    # test=1\n",
      "    #MOVING WINDOW\n",
      "    xmin, xmax = ax[0].get_xlim()\n",
      "    if t >= xmax-1: #once the line get's 9 10ths of the way...\n",
      "        #move the window by 5 seconds forward\n",
      "        \n",
      "        xmin+=5\n",
      "        xmax+=5\n",
      "        for i in range(len(axes)):\n",
      "            ax[i].set_xlim(xmin, xmax)\n",
      "        print 'test'\n",
      "        ax[0].figure.canvas.draw()\n",
      "        ax[1].figure.canvas.draw()\n",
      "        ax[2].figure.canvas.draw()\n",
      "\n",
      "    return tuple(all_lines)"
     ],
     "language": "python",
     "metadata": {},
     "outputs": [],
     "prompt_number": 8
    },
    {
     "cell_type": "code",
     "collapsed": false,
     "input": [
      "ani = animation.FuncAnimation(fig, run, sensor_stream, blit=False, interval=100,\n",
      "    repeat=False)\n",
      "plt.show()"
     ],
     "language": "python",
     "metadata": {},
     "outputs": [],
     "prompt_number": 9
    },
    {
     "cell_type": "code",
     "collapsed": false,
     "input": [],
     "language": "python",
     "metadata": {},
     "outputs": [],
     "prompt_number": "*"
    },
    {
     "cell_type": "code",
     "collapsed": false,
     "input": [],
     "language": "python",
     "metadata": {},
     "outputs": [],
     "prompt_number": "*"
    },
    {
     "cell_type": "code",
     "collapsed": false,
     "input": [],
     "language": "python",
     "metadata": {},
     "outputs": [],
     "prompt_number": "*"
    }
   ],
   "metadata": {}
  }
 ]
}